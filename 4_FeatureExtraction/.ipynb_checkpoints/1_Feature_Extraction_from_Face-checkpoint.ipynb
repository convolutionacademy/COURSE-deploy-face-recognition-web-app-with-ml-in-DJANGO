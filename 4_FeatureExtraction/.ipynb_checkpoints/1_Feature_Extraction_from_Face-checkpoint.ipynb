{
 "cells": [
  {
   "cell_type": "code",
   "execution_count": 3,
   "metadata": {},
   "outputs": [],
   "source": [
    "import numpy as np\n",
    "import cv2\n",
    "import dlib\n",
    "from imutils import face_utils"
   ]
  },
  {
   "cell_type": "code",
   "execution_count": 4,
   "metadata": {},
   "outputs": [],
   "source": [
    "img = cv2.imread('./girl.png')\n",
    "\n",
    "cv2.imshow('girl',img)\n",
    "cv2.waitKey(0)\n",
    "cv2.destroyAllWindows()"
   ]
  },
  {
   "cell_type": "code",
   "execution_count": 5,
   "metadata": {},
   "outputs": [],
   "source": [
    "# shape predictor\n",
    "shape_predictor = dlib.shape_predictor('./models/shape_predictor_68_face_landmarks.dat')\n",
    "# face descriptor\n",
    "shape_descriptor = dlib.face_recognition_model_v1(\n",
    "    './models/dlib_face_recognition_resnet_model_v1.dat')"
   ]
  },
  {
   "cell_type": "code",
   "execution_count": null,
   "metadata": {},
   "outputs": [],
   "source": []
  },
  {
   "cell_type": "code",
   "execution_count": 16,
   "metadata": {},
   "outputs": [],
   "source": [
    "# step-1: Face detection\n",
    "image = img.copy()\n",
    "face_detector = dlib.get_frontal_face_detector()\n",
    "\n",
    "faces = face_detector(image)\n",
    "for box in faces:\n",
    "    pt1 = box.left(), box.top()\n",
    "    pt2 = box.right(), box.bottom()\n",
    "    \n",
    "    face_shape = shape_predictor(image,box)\n",
    "    face_shape_array = face_utils.shape_to_np(face_shape)\n",
    "    face_descriptor = shape_descriptor.compute_face_descriptor(image,face_shape)\n",
    "    #print(face_shape_array)\n",
    "    for points in face_shape_array:\n",
    "        cv2.circle(image,tuple(points),3,(0,255,0),-1)\n",
    "    \n",
    "    \n",
    "    cv2.rectangle(image,pt1,pt2,(0,255,0))\n",
    "    \n",
    "cv2.imshow('girl face detection',image)\n",
    "cv2.waitKey(0)\n",
    "cv2.destroyAllWindows()"
   ]
  },
  {
   "cell_type": "code",
   "execution_count": 19,
   "metadata": {},
   "outputs": [
    {
     "data": {
      "text/plain": [
       "128"
      ]
     },
     "execution_count": 19,
     "metadata": {},
     "output_type": "execute_result"
    }
   ],
   "source": [
    "len(np.array(face_descriptor))"
   ]
  },
  {
   "cell_type": "code",
   "execution_count": null,
   "metadata": {},
   "outputs": [],
   "source": []
  },
  {
   "cell_type": "code",
   "execution_count": null,
   "metadata": {},
   "outputs": [],
   "source": []
  },
  {
   "cell_type": "code",
   "execution_count": null,
   "metadata": {},
   "outputs": [],
   "source": []
  },
  {
   "cell_type": "code",
   "execution_count": null,
   "metadata": {},
   "outputs": [],
   "source": []
  },
  {
   "cell_type": "code",
   "execution_count": null,
   "metadata": {},
   "outputs": [],
   "source": []
  },
  {
   "cell_type": "code",
   "execution_count": null,
   "metadata": {},
   "outputs": [],
   "source": []
  }
 ],
 "metadata": {
  "kernelspec": {
   "display_name": "Python 3",
   "language": "python",
   "name": "python3"
  },
  "language_info": {
   "codemirror_mode": {
    "name": "ipython",
    "version": 3
   },
   "file_extension": ".py",
   "mimetype": "text/x-python",
   "name": "python",
   "nbconvert_exporter": "python",
   "pygments_lexer": "ipython3",
   "version": "3.9.2"
  }
 },
 "nbformat": 4,
 "nbformat_minor": 4
}
