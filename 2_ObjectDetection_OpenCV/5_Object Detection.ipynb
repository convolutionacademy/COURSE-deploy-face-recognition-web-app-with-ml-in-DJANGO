{
 "cells": [
  {
   "cell_type": "code",
   "execution_count": 1,
   "metadata": {},
   "outputs": [],
   "source": [
    "import numpy as np\n",
    "import cv2"
   ]
  },
  {
   "cell_type": "code",
   "execution_count": 53,
   "metadata": {},
   "outputs": [],
   "source": [
    "img = cv2.imread('./images/happy-people.jpg')\n",
    "cv2.imshow('image',img)\n",
    "cv2.waitKey(0)\n",
    "cv2.destroyAllWindows()"
   ]
  },
  {
   "cell_type": "code",
   "execution_count": 54,
   "metadata": {},
   "outputs": [],
   "source": [
    "face_cascade = cv2.CascadeClassifier('./haarcascade/haarcascade_frontalface_default.xml')"
   ]
  },
  {
   "cell_type": "code",
   "execution_count": 55,
   "metadata": {},
   "outputs": [],
   "source": [
    "faces = face_cascade.detectMultiScale2(img)"
   ]
  },
  {
   "cell_type": "code",
   "execution_count": 56,
   "metadata": {},
   "outputs": [],
   "source": [
    "def face_detection(image,all_faces):\n",
    "    for x,y,w,h in all_faces[0]:\n",
    "\n",
    "        cv2.rectangle(image,(x,y),(x+w,y+h),(0,255,0),1)\n",
    "\n",
    "        # center \n",
    "        cx,cy = (x+x+w)//2 , (y+y+h)//2\n",
    "        cv2.circle(image,(cx,cy),w//2,(255,0,255),2)\n",
    "        \n",
    "    return image\n"
   ]
  },
  {
   "cell_type": "code",
   "execution_count": 57,
   "metadata": {},
   "outputs": [],
   "source": [
    "imgface_detect = face_detection(img,faces)\n",
    "cv2.imshow('face_detect',imgface_detect)\n",
    "cv2.waitKey(0)\n",
    "cv2.destroyAllWindows()"
   ]
  },
  {
   "cell_type": "markdown",
   "metadata": {},
   "source": [
    "# Face and Eye Detection"
   ]
  },
  {
   "cell_type": "code",
   "execution_count": 58,
   "metadata": {},
   "outputs": [],
   "source": [
    "eye_cascade = cv2.CascadeClassifier('./haarcascade/haarcascade_eye.xml')"
   ]
  },
  {
   "cell_type": "code",
   "execution_count": 60,
   "metadata": {},
   "outputs": [],
   "source": [
    "def face_eye_detection(image):\n",
    "    # step-1: detect face\n",
    "    faces = face_cascade.detectMultiScale2(image)\n",
    "    for fx,fy,fw,fh  in faces[0]:\n",
    "        face_roi = image[fy:fy+fh,fx:fx+fw].copy()# croped face\n",
    "        cv2.rectangle(image,(fx,fy),(fx+fw,fy+fh),(0,255,0),1)# draw rectangle\n",
    "        \n",
    "        # eye detection\n",
    "        eyes = eye_cascade.detectMultiScale2(face_roi)\n",
    "        for ex,ey,ew,eh in eyes[0]:\n",
    "            # circle\n",
    "            cx = fx+(2*ex+ew)//2\n",
    "            cy = fy+(2*ey+eh)//2\n",
    "            r =ew//2\n",
    "            cv2.circle(image,(cx,cy),r,(0,255,255),2)\n",
    "            \n",
    "            \n",
    "    return image\n",
    "    \n",
    "img = face_eye_detection(img)\n",
    "\n",
    "cv2.imshow('face eye',img)\n",
    "cv2.waitKey(0)\n",
    "cv2.destroyAllWindows()"
   ]
  },
  {
   "cell_type": "code",
   "execution_count": null,
   "metadata": {},
   "outputs": [],
   "source": []
  },
  {
   "cell_type": "markdown",
   "metadata": {},
   "source": [
    "# smile"
   ]
  },
  {
   "cell_type": "code",
   "execution_count": 61,
   "metadata": {},
   "outputs": [],
   "source": [
    "smile_detector = cv2.CascadeClassifier('./haarcascade/haarcascade_smile.xml')"
   ]
  },
  {
   "cell_type": "code",
   "execution_count": 165,
   "metadata": {},
   "outputs": [
    {
     "name": "stdout",
     "output_type": "stream",
     "text": [
      "[[104]\n",
      " [ 84]\n",
      " [ 71]]\n",
      "[[53 27 23 23]\n",
      " [16 25 26 26]]\n",
      "53 27 23 23\n",
      "16 25 26 26\n",
      "[[55 22 26 26]\n",
      " [16 20 27 27]]\n",
      "55 22 26 26\n",
      "16 20 27 27\n",
      "[[15 32 23 23]\n",
      " [45 20 29 29]]\n",
      "15 32 23 23\n",
      "45 20 29 29\n"
     ]
    }
   ],
   "source": [
    "img = cv2.imread('./images/friends.jpg')\n",
    "image = img.copy()\n",
    "# step-1: detect face\n",
    "faces,ndetection = face_cascade.detectMultiScale2(image,minNeighbors=8)\n",
    "print(ndetection)\n",
    "#print(faces)\n",
    "for fx,fy,fw,fh  in faces:\n",
    "    face_roi = image[fy:fy+fh,fx:fx+fw].copy()# croped face\n",
    "    cv2.rectangle(image,(fx,fy),(fx+fw,fy+fh),(0,255,0),1)# draw rectangle\n",
    "\n",
    "    # eye detection\n",
    "    eyes_pos, ndetection = eye_cascade.detectMultiScale2(face_roi)\n",
    "    if len(ndetection) >= 1:\n",
    "\n",
    "        order_of_detection = ndetection.ravel().argsort()\n",
    "        select_2eyes_dominant_index = order_of_detection[order_of_detection >= (len(order_of_detection) - 2)]\n",
    "        select_eyes_pos = eyes_pos[select_2eyes_dominant_index]\n",
    "        print(select_eyes_pos)\n",
    "        for ex,ey,ew,eh in select_eyes_pos:\n",
    "            print(ex,ey,ew,eh)\n",
    "            # circle\n",
    "            cx = fx+(2*ex+ew)//2\n",
    "            cy = fy+(2*ey+eh)//2\n",
    "            r =ew//2\n",
    "            cv2.circle(image,(cx,cy),r,(255,0,255),2)\n",
    "            \n",
    "    # smile\n",
    "    smile_pos, ndetection = smile_detector.detectMultiScale2(face_roi)\n",
    "    if len(ndetection) >= 1:\n",
    "\n",
    "        order_of_detection = ndetection.ravel().argsort()\n",
    "        smile_index = order_of_detection.max()\n",
    "        smile_index_pos = smile_pos[smile_index]\n",
    "        sx,sy,sw,sh = smile_index_pos\n",
    "        cv2.rectangle(image,(fx+sx,fy+sy),(fx+sx+sw,fy+sy+sh),(0,255,255),2,)\n",
    "    \n",
    "\n",
    "\n",
    "    # \n",
    "\n",
    "cv2.imshow('face eye',image)\n",
    "cv2.waitKey(0)\n",
    "cv2.destroyAllWindows()\n"
   ]
  },
  {
   "cell_type": "code",
   "execution_count": 149,
   "metadata": {},
   "outputs": [
    {
     "data": {
      "text/plain": [
       "array([23, 62, 50, 25], dtype=int32)"
      ]
     },
     "execution_count": 149,
     "metadata": {},
     "output_type": "execute_result"
    }
   ],
   "source": [
    "smile_index_pos"
   ]
  },
  {
   "cell_type": "code",
   "execution_count": null,
   "metadata": {},
   "outputs": [],
   "source": []
  }
 ],
 "metadata": {
  "kernelspec": {
   "display_name": "Python 3",
   "language": "python",
   "name": "python3"
  },
  "language_info": {
   "codemirror_mode": {
    "name": "ipython",
    "version": 3
   },
   "file_extension": ".py",
   "mimetype": "text/x-python",
   "name": "python",
   "nbconvert_exporter": "python",
   "pygments_lexer": "ipython3",
   "version": "3.9.2"
  }
 },
 "nbformat": 4,
 "nbformat_minor": 4
}
