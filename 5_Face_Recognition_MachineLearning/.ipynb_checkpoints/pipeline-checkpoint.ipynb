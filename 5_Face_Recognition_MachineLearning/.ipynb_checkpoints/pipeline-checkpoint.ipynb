{
 "cells": [
  {
   "cell_type": "markdown",
   "metadata": {},
   "source": [
    "# Pipeline Models"
   ]
  },
  {
   "cell_type": "code",
   "execution_count": 1,
   "metadata": {},
   "outputs": [],
   "source": [
    "import numpy as np\n",
    "import cv2\n",
    "import sklearn\n",
    "import pickle"
   ]
  },
  {
   "cell_type": "code",
   "execution_count": 2,
   "metadata": {},
   "outputs": [],
   "source": [
    "# load all models\n",
    "face_detector_model = cv2.dnn.readNetFromCaffe('./models/deploy.prototxt.txt',\n",
    "                                               './models/res10_300x300_ssd_iter_140000.caffemodel')\n",
    "face_feature_model = cv2.dnn.readNetFromTorch('./models/openface.nn4.small2.v1.t7')\n",
    "\n",
    "# face recognition model\n",
    "face_recognition_model = pickle.load(open('./models/machinelearning_face_person_identity.pkl','rb'))\n",
    "# face emotion \n",
    "face_emotion_model = pickle.load(open('./models/machinelearning_face_emotion.pkl','rb'))"
   ]
  },
  {
   "cell_type": "code",
   "execution_count": 11,
   "metadata": {},
   "outputs": [],
   "source": [
    "# load image\n",
    "def pipeline(path):\n",
    "\n",
    "    img = cv2.imread(path)\n",
    "    image = img.copy()\n",
    "    h,w = img.shape[:2]\n",
    "    # face detection\n",
    "    img_blob = cv2.dnn.blobFromImage(img,1,(300,300),(104,177,123),swapRB=False,crop=False)\n",
    "    face_detector_model.setInput(img_blob)\n",
    "    detections = face_detector_model.forward()\n",
    "\n",
    "    if len(detections) >0:\n",
    "        for i,confidence in enumerate((detections[0,0,:,2])):\n",
    "            if confidence > 0.5:\n",
    "                box = detections[0,0,i,3:7] * np.array([w,h,w,h])\n",
    "                startx,starty,endx,endy = box.astype(int)\n",
    "\n",
    "                cv2.rectangle(image,(startx,starty),(endx,endy),(0,255,0))\n",
    "                # feature extraction\n",
    "                face_roi = img[starty:endy,startx:endx]\n",
    "                faceblob = cv2.dnn.blobFromImage(face_roi,1/255,(96,96),(0,0,0),swapRB=True,crop=True)\n",
    "                face_feature_model.setInput(faceblob)\n",
    "                vectors = face_feature_model.forward()\n",
    "\n",
    "                # apply to face recgnition model\n",
    "                face_name = face_recognition_model.predict(vectors)[0]\n",
    "                face_scores = face_recognition_model.predict_proba(vectors).flatten()\n",
    "                person_score = face_scores.max()\n",
    "                # apply emotion model\n",
    "                emotion_name = face_emotion_model.predict(vectors)[0]\n",
    "                emotion_scores = face_emotion_model.predict_proba(vectors).flatten()\n",
    "                emotion_score = emotion_scores.max()\n",
    "\n",
    "\n",
    "                text_name = \"{} : {:.0f} %\".format(face_name,person_score*100)\n",
    "                text_emotion = \"{} : {:.0f} %\".format(emotion_name,emotion_score*100)\n",
    "                print(text_name, text_emotion)\n",
    "                cv2.putText(image,text_name,(startx,starty),cv2.FONT_HERSHEY_PLAIN,2,(255,255,255),2)\n",
    "                cv2.putText(image,text_emotion,(startx,endy),cv2.FONT_HERSHEY_PLAIN,2,(255,255,255),2)\n",
    "                #print(person_score)\n",
    "\n",
    "\n",
    "    cv2.imshow('image',image)\n",
    "    cv2.waitKey(0)\n",
    "    cv2.destroyAllWindows()\n",
    "\n",
    "# face recognition & emotion"
   ]
  },
  {
   "cell_type": "code",
   "execution_count": 12,
   "metadata": {},
   "outputs": [
    {
     "name": "stdout",
     "output_type": "stream",
     "text": [
      "Leonardo DiCaprio : 82 % neutral : 22 %\n",
      "Angelina Jolie : 59 % happy : 21 %\n"
     ]
    }
   ],
   "source": [
    "pipeline('./test_images.jpg')"
   ]
  },
  {
   "cell_type": "code",
   "execution_count": 11,
   "metadata": {},
   "outputs": [
    {
     "data": {
      "text/plain": [
       "array(['Angelina Jolie'], dtype='<U18')"
      ]
     },
     "execution_count": 11,
     "metadata": {},
     "output_type": "execute_result"
    }
   ],
   "source": [
    "face_name"
   ]
  },
  {
   "cell_type": "code",
   "execution_count": null,
   "metadata": {},
   "outputs": [],
   "source": []
  }
 ],
 "metadata": {
  "kernelspec": {
   "display_name": "Python 3",
   "language": "python",
   "name": "python3"
  },
  "language_info": {
   "codemirror_mode": {
    "name": "ipython",
    "version": 3
   },
   "file_extension": ".py",
   "mimetype": "text/x-python",
   "name": "python",
   "nbconvert_exporter": "python",
   "pygments_lexer": "ipython3",
   "version": "3.9.2"
  }
 },
 "nbformat": 4,
 "nbformat_minor": 4
}
